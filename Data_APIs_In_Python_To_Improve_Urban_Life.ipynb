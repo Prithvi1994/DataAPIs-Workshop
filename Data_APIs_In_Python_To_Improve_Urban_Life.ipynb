{
 "cells": [
  {
   "cell_type": "code",
   "execution_count": 3,
   "metadata": {
    "collapsed": true
   },
   "outputs": [],
   "source": [
    "%matplotlib inline\n",
    "import json\n",
    "import pandas as pd"
   ]
  },
  {
   "cell_type": "code",
   "execution_count": 4,
   "metadata": {
    "collapsed": true
   },
   "outputs": [],
   "source": [
    "# Read and return the \"api_key\" key from a JSON file\n",
    "def read_key(fn):\n",
    "    with open(fn) as json_file:\n",
    "        data = json.load(json_file)\n",
    "        return data[\"api_key\"]"
   ]
  },
  {
   "cell_type": "markdown",
   "metadata": {},
   "source": [
    "# Using Data APIs in Python to Improve Urban Life\n",
    "\n"
   ]
  },
  {
   "cell_type": "markdown",
   "metadata": {},
   "source": [
    "## Obtaining US Census Data Through Python Packages\n",
    "\n",
    "Every 10 years the US conducts a national census. The data collected are extensisve and are aggregated spatially in areas called census tracts. There is a python package for accessing the data through the [APIs served by the Census Bureau](http://www.census.gov/developers/).\n",
    "\n",
    "This package requires you to know a fair amount about how census data is structured and what the various attributes are called. For an example, we'll look at the American Community Survey 5-year data (refered to as [acs5](http://www.census.gov/data/developers/data-sets/acs-5year.html)) and some of the variables related to povery measures including [total population](http://api.census.gov/data/2014/acs5/variables/B01003_001E.json), and [population below the povery level by work experiance](http://api.census.gov/data/2014/acs5/variables/B17009_002E.json).\n",
    "\n",
    "The Census Bureau's API requires an API key to be able to access it. This is a unique string that is assiged to you so that your API use can be tracked and rate limited if needed. Some data API providers charge money for use of their APIs and keys let them bill the right person. The Python package will pass along your API key to the Census servers.\n",
    "\n",
    "You can get a free [Census Bureau API key here](http://api.census.gov/data/key_signup.html).\n",
    "\n",
    "API keys are secrets that should not be made public, like a password. Be careful about putting API keys into your code, especially if you commit it to a public code repository like Github. Remember, once you have commited an API key to a version control system, it is there forever. You must cancel your old key and get a new one immediately.\n",
    "\n",
    "One pattern for managing API keys is to put them in a separate file which is excluded from verison control and read them into your code."
   ]
  },
  {
   "cell_type": "code",
   "execution_count": 6,
   "metadata": {
    "collapsed": false
   },
   "outputs": [
    {
     "name": "stdout",
     "output_type": "stream",
     "text": [
      "d91de1bcda\n"
     ]
    }
   ],
   "source": [
    "census_api_key = read_key(\"census.key\")\n",
    "print(census_api_key[0:10])"
   ]
  },
  {
   "cell_type": "markdown",
   "metadata": {
    "collapsed": false
   },
   "source": [
    "Now that we have a key loaded, let's get a couple parameters from the census by census tract for Alachua county. The census uses [FIPS codes](https://en.wikipedia.org/wiki/FIPS_county_code) to tell what state and county data is in."
   ]
  },
  {
   "cell_type": "code",
   "execution_count": 10,
   "metadata": {
    "collapsed": false
   },
   "outputs": [
    {
     "data": {
      "text/plain": [
       "[{u'B01003_001E': u'7545',\n",
       "  u'B14006_002E': u'4353',\n",
       "  u'B17009_002E': u'4089',\n",
       "  u'NAME': u'Census Tract 2, Alachua County, Florida',\n",
       "  u'county': u'001',\n",
       "  u'state': u'12',\n",
       "  u'tract': u'000200'},\n",
       " {u'B01003_001E': u'3401',\n",
       "  u'B14006_002E': u'1429',\n",
       "  u'B17009_002E': u'1061',\n",
       "  u'NAME': u'Census Tract 3.01, Alachua County, Florida',\n",
       "  u'county': u'001',\n",
       "  u'state': u'12',\n",
       "  u'tract': u'000301'}]"
      ]
     },
     "execution_count": 10,
     "metadata": {},
     "output_type": "execute_result"
    }
   ],
   "source": [
    "# Before running you will need to install the 'census' package with\n",
    "# pip install census\n",
    "from census import Census\n",
    "\n",
    "florida_fips = '12'\n",
    "alachua_fips = '001'\n",
    "\n",
    "census_api = Census(census_api_key)\n",
    "census_data = census_api.acs5.state_county_tract(\n",
    "    ('NAME', 'B01003_001E', 'B14006_002E', 'B17009_002E'), \n",
    "    florida_fips, alachua_fips, Census.ALL)\n",
    "\n",
    "census_data[0:2]"
   ]
  },
  {
   "cell_type": "markdown",
   "metadata": {},
   "source": [
    "What did we get back? This is a list of dictionaries. This is a common representation of data and when we talk about JSON in a few minutes you'll see why data APIs and libraries that work with them like this format.\n",
    "\n",
    "This is such a common structure that Pandas includes a function to convert it directly to a data frame:"
   ]
  },
  {
   "cell_type": "code",
   "execution_count": 11,
   "metadata": {
    "collapsed": false
   },
   "outputs": [
    {
     "data": {
      "text/html": [
       "<div>\n",
       "<table border=\"1\" class=\"dataframe\">\n",
       "  <thead>\n",
       "    <tr style=\"text-align: right;\">\n",
       "      <th></th>\n",
       "      <th>B01003_001E</th>\n",
       "      <th>B14006_002E</th>\n",
       "      <th>B17009_002E</th>\n",
       "      <th>NAME</th>\n",
       "      <th>county</th>\n",
       "      <th>state</th>\n",
       "      <th>tract</th>\n",
       "    </tr>\n",
       "  </thead>\n",
       "  <tbody>\n",
       "    <tr>\n",
       "      <th>count</th>\n",
       "      <td>56</td>\n",
       "      <td>56</td>\n",
       "      <td>56</td>\n",
       "      <td>56</td>\n",
       "      <td>56</td>\n",
       "      <td>56</td>\n",
       "      <td>56</td>\n",
       "    </tr>\n",
       "    <tr>\n",
       "      <th>unique</th>\n",
       "      <td>56</td>\n",
       "      <td>55</td>\n",
       "      <td>55</td>\n",
       "      <td>56</td>\n",
       "      <td>1</td>\n",
       "      <td>1</td>\n",
       "      <td>56</td>\n",
       "    </tr>\n",
       "    <tr>\n",
       "      <th>top</th>\n",
       "      <td>822</td>\n",
       "      <td>1477</td>\n",
       "      <td>222</td>\n",
       "      <td>Census Tract 22.07, Alachua County, Florida</td>\n",
       "      <td>001</td>\n",
       "      <td>12</td>\n",
       "      <td>001907</td>\n",
       "    </tr>\n",
       "    <tr>\n",
       "      <th>freq</th>\n",
       "      <td>1</td>\n",
       "      <td>2</td>\n",
       "      <td>2</td>\n",
       "      <td>1</td>\n",
       "      <td>56</td>\n",
       "      <td>56</td>\n",
       "      <td>1</td>\n",
       "    </tr>\n",
       "  </tbody>\n",
       "</table>\n",
       "</div>"
      ],
      "text/plain": [
       "       B01003_001E B14006_002E B17009_002E  \\\n",
       "count           56          56          56   \n",
       "unique          56          55          55   \n",
       "top            822        1477         222   \n",
       "freq             1           2           2   \n",
       "\n",
       "                                               NAME county state   tract  \n",
       "count                                            56     56    56      56  \n",
       "unique                                           56      1     1      56  \n",
       "top     Census Tract 22.07, Alachua County, Florida    001    12  001907  \n",
       "freq                                              1     56    56       1  "
      ]
     },
     "execution_count": 11,
     "metadata": {},
     "output_type": "execute_result"
    }
   ],
   "source": [
    "poverty_by_tract = pd.DataFrame.from_dict(census_data)\n",
    "poverty_by_tract.describe()"
   ]
  },
  {
   "cell_type": "markdown",
   "metadata": {},
   "source": [
    "Now let's calculate the percentage of the population living in poverty in each census tract. To do that we'll divide the total number living below the poverty line by the total population and put it in a new column of the dataframe. Because our data was returned as strings, we need to convert each one to a float before dividing."
   ]
  },
  {
   "cell_type": "code",
   "execution_count": 16,
   "metadata": {
    "collapsed": false
   },
   "outputs": [
    {
     "data": {
      "text/html": [
       "<div>\n",
       "<table border=\"1\" class=\"dataframe\">\n",
       "  <thead>\n",
       "    <tr style=\"text-align: right;\">\n",
       "      <th></th>\n",
       "      <th>percent</th>\n",
       "    </tr>\n",
       "  </thead>\n",
       "  <tbody>\n",
       "    <tr>\n",
       "      <th>count</th>\n",
       "      <td>56.000000</td>\n",
       "    </tr>\n",
       "    <tr>\n",
       "      <th>mean</th>\n",
       "      <td>0.555206</td>\n",
       "    </tr>\n",
       "    <tr>\n",
       "      <th>std</th>\n",
       "      <td>0.266553</td>\n",
       "    </tr>\n",
       "    <tr>\n",
       "      <th>min</th>\n",
       "      <td>0.000000</td>\n",
       "    </tr>\n",
       "    <tr>\n",
       "      <th>25%</th>\n",
       "      <td>0.323790</td>\n",
       "    </tr>\n",
       "    <tr>\n",
       "      <th>50%</th>\n",
       "      <td>0.532289</td>\n",
       "    </tr>\n",
       "    <tr>\n",
       "      <th>75%</th>\n",
       "      <td>0.774906</td>\n",
       "    </tr>\n",
       "    <tr>\n",
       "      <th>max</th>\n",
       "      <td>1.000000</td>\n",
       "    </tr>\n",
       "  </tbody>\n",
       "</table>\n",
       "</div>"
      ],
      "text/plain": [
       "         percent\n",
       "count  56.000000\n",
       "mean    0.555206\n",
       "std     0.266553\n",
       "min     0.000000\n",
       "25%     0.323790\n",
       "50%     0.532289\n",
       "75%     0.774906\n",
       "max     1.000000"
      ]
     },
     "execution_count": 16,
     "metadata": {},
     "output_type": "execute_result"
    }
   ],
   "source": [
    "poverty_by_tract['percent'] = poverty_by_tract.apply(\n",
    "    lambda row: float(row['B17009_002E']) / float(row['B14006_002E']), axis=1)\n",
    "\n",
    "poverty_by_tract.describe()"
   ]
  },
  {
   "cell_type": "markdown",
   "metadata": {},
   "source": [
    "You can see that the calls to the census package and even the data formating are just a few lines of code however you still need to know quite a lot about how census data is represented in order to use the Python package. Desciptive data about data are called \"metadata\". You can find the metadata for some of what we have used above at the Census Bureau."
   ]
  },
  {
   "cell_type": "markdown",
   "metadata": {},
   "source": [
    "### Mapping Poverty by Census Tract on Top of Basemap Data Layers"
   ]
  },
  {
   "cell_type": "markdown",
   "metadata": {},
   "source": [
    "#### Downloading Census Tract Layer"
   ]
  },
  {
   "cell_type": "code",
   "execution_count": 6,
   "metadata": {
    "collapsed": false
   },
   "outputs": [],
   "source": [
    "# pip install https://github.com/matplotlib/basemap/archive/v1.0.7rel.tar.gz\n",
    "# This is 130 MB, needed geos, numpy, matplotlib, pandas first, also apt install libgeos-dev\n",
    "# or apt install python-mpltoolkits.basemap python-mpltoolkits.basemap-data\n",
    "\n",
    "from mpl_toolkits.basemap import Basemap\n",
    "import matplotlib.pyplot as plt\n",
    "import numpy as np"
   ]
  },
  {
   "cell_type": "markdown",
   "metadata": {},
   "source": [
    "#### Drawing a Map of Census Tracts"
   ]
  },
  {
   "cell_type": "code",
   "execution_count": 34,
   "metadata": {
    "collapsed": false
   },
   "outputs": [
    {
     "data": {
      "image/png": "[encoded data removed]",
      "text/plain": [
       "<matplotlib.figure.Figure at 0xa349f60>"
      ]
     },
     "metadata": {},
     "output_type": "display_data"
    }
   ],
   "source": [
    "my_map = Basemap(llcrnrlon=-82.4,llcrnrlat=29.5,urcrnrlon=-82.2,urcrnrlat=29.75,\n",
    "             resolution='i', projection='tmerc', lat_0 = 29.65, lon_0 = -82.33)\n",
    "#Basemap(projection='ortho', lat_0=29.65, lon_0=-82.32,\n",
    "#              llcrnrlon=-0.5,llcrnrlat=39.8,urcrnrlon=4.,urcrnrlat=43.,\n",
    "#              resolution='l', area_thresh=1000.0)\n",
    " \n",
    "my_map.drawcoastlines()\n",
    "my_map.readshapefile(\"data/gz_2010_12_140_00_500k\", \"census_tracts\")\n",
    "#my_map.readshapefile(\"data/county_roads\", \"counties\")\n",
    " \n",
    "plt.show()"
   ]
  },
  {
   "cell_type": "markdown",
   "metadata": {},
   "source": [
    "## Does Having Natural Gas Service Save Money?"
   ]
  },
  {
   "cell_type": "markdown",
   "metadata": {},
   "source": [
    "### Obtaining Gaineville Regional Utilities (GRU) Billing Data Through Socrata's API from data.cityofgainesville.org"
   ]
  },
  {
   "cell_type": "code",
   "execution_count": 36,
   "metadata": {
    "collapsed": false
   },
   "outputs": [],
   "source": [
    "data_set_id = \"gk3k-9435\"\n",
    "year = \"2016\"\n",
    "api_url = (\"https://data.cityofgainesville.org/resource/{0}.json?year={1}&month=January\"\n",
    "    .format(data_set_id, year))\n",
    "gru_data = pd.read_json(api_url)"
   ]
  },
  {
   "cell_type": "code",
   "execution_count": 37,
   "metadata": {
    "collapsed": false
   },
   "outputs": [
    {
     "data": {
      "text/plain": [
       "date               1000\n",
       "kwh_consumption    1000\n",
       "location_1         1000\n",
       "month              1000\n",
       "servcity           1000\n",
       "serviceaddress     1000\n",
       "year               1000\n",
       "dtype: int64"
      ]
     },
     "execution_count": 37,
     "metadata": {},
     "output_type": "execute_result"
    }
   ],
   "source": [
    "gru_data.count()"
   ]
  },
  {
   "cell_type": "markdown",
   "metadata": {},
   "source": [
    "### Calculating Savings"
   ]
  },
  {
   "cell_type": "markdown",
   "metadata": {},
   "source": [
    "### Obtaining Property Appraiser Data Through Manual Downloads from www.acpafl.org"
   ]
  },
  {
   "cell_type": "code",
   "execution_count": 8,
   "metadata": {
    "collapsed": false
   },
   "outputs": [
    {
     "data": {
      "text/html": [
       "<div>\n",
       "<table border=\"1\" class=\"dataframe\">\n",
       "  <thead>\n",
       "    <tr style=\"text-align: right;\">\n",
       "      <th></th>\n",
       "      <th>Parcel_Num</th>\n",
       "      <th>Owner_Mail_Name</th>\n",
       "      <th>Owner_Mail_CO</th>\n",
       "      <th>Owner_Mail_Addr1</th>\n",
       "      <th>Owner_Mail_Addr2</th>\n",
       "      <th>Owner_Mail_City</th>\n",
       "      <th>Owner_Mail_State</th>\n",
       "      <th>Owner_Mail_Zip</th>\n",
       "      <th>Section</th>\n",
       "      <th>Township</th>\n",
       "      <th>...</th>\n",
       "      <th>School_Exempt_Amount</th>\n",
       "      <th>Tax_Amount</th>\n",
       "      <th>Loc_Address</th>\n",
       "      <th>Sale_Date</th>\n",
       "      <th>Sale_Price</th>\n",
       "      <th>Sale_VacImp</th>\n",
       "      <th>Sale_Qualified</th>\n",
       "      <th>Sale_Book</th>\n",
       "      <th>Sale_Page</th>\n",
       "      <th>Sale_Instrument</th>\n",
       "    </tr>\n",
       "  </thead>\n",
       "  <tbody>\n",
       "    <tr>\n",
       "      <th>0</th>\n",
       "      <td>00450-000-000</td>\n",
       "      <td>WARD, JODI</td>\n",
       "      <td>NaN</td>\n",
       "      <td>1236 NW 39TH DR</td>\n",
       "      <td>NaN</td>\n",
       "      <td>GAINESVILLE</td>\n",
       "      <td>FL</td>\n",
       "      <td>32605-4647</td>\n",
       "      <td>2</td>\n",
       "      <td>8</td>\n",
       "      <td>...</td>\n",
       "      <td>0</td>\n",
       "      <td>1728.82</td>\n",
       "      <td>18743 NW 230TH ST</td>\n",
       "      <td>05/10/2011</td>\n",
       "      <td>100</td>\n",
       "      <td>I</td>\n",
       "      <td>U</td>\n",
       "      <td>4031</td>\n",
       "      <td>449</td>\n",
       "      <td>WD</td>\n",
       "    </tr>\n",
       "    <tr>\n",
       "      <th>1</th>\n",
       "      <td>00528-000-000</td>\n",
       "      <td>DIRK, LYNN M</td>\n",
       "      <td>NaN</td>\n",
       "      <td>1604 NW 21ST AVE</td>\n",
       "      <td>NaN</td>\n",
       "      <td>GAINESVILLE</td>\n",
       "      <td>FL</td>\n",
       "      <td>32605-4062</td>\n",
       "      <td>34</td>\n",
       "      <td>7</td>\n",
       "      <td>...</td>\n",
       "      <td>0</td>\n",
       "      <td>1286.20</td>\n",
       "      <td>23674 NW 188TH AV</td>\n",
       "      <td>02/15/2006</td>\n",
       "      <td>100</td>\n",
       "      <td>I</td>\n",
       "      <td>U</td>\n",
       "      <td>3317</td>\n",
       "      <td>820</td>\n",
       "      <td>OD</td>\n",
       "    </tr>\n",
       "    <tr>\n",
       "      <th>2</th>\n",
       "      <td>01408-113-000</td>\n",
       "      <td>MILLER, GREGORY A &amp; KAREN L</td>\n",
       "      <td>NaN</td>\n",
       "      <td>PO BOX 2693</td>\n",
       "      <td>NaN</td>\n",
       "      <td>HIGH SPRINGS</td>\n",
       "      <td>FL</td>\n",
       "      <td>32655-2693</td>\n",
       "      <td>3</td>\n",
       "      <td>8</td>\n",
       "      <td>...</td>\n",
       "      <td>2610</td>\n",
       "      <td>1621.35</td>\n",
       "      <td>17521 NW 239TH TER</td>\n",
       "      <td>05/27/1994</td>\n",
       "      <td>42500</td>\n",
       "      <td>I</td>\n",
       "      <td>Q</td>\n",
       "      <td>1970</td>\n",
       "      <td>562</td>\n",
       "      <td>WD</td>\n",
       "    </tr>\n",
       "    <tr>\n",
       "      <th>3</th>\n",
       "      <td>01981-012-004</td>\n",
       "      <td>BOGART, JOSEPH W</td>\n",
       "      <td>NaN</td>\n",
       "      <td>4022 NW 36TH ST</td>\n",
       "      <td>NaN</td>\n",
       "      <td>GAINESVILLE</td>\n",
       "      <td>FL</td>\n",
       "      <td>32605-1445</td>\n",
       "      <td>4</td>\n",
       "      <td>10</td>\n",
       "      <td>...</td>\n",
       "      <td>0</td>\n",
       "      <td>1687.81</td>\n",
       "      <td>26442 SW 4TH AV</td>\n",
       "      <td>02/18/2008</td>\n",
       "      <td>81000</td>\n",
       "      <td>I</td>\n",
       "      <td>U</td>\n",
       "      <td>3745</td>\n",
       "      <td>220</td>\n",
       "      <td>CT</td>\n",
       "    </tr>\n",
       "    <tr>\n",
       "      <th>4</th>\n",
       "      <td>02534-001-011</td>\n",
       "      <td>MITCHELL, LAURIE DUKES TRUSTEE</td>\n",
       "      <td>NaN</td>\n",
       "      <td>7818 NW 22ND LN</td>\n",
       "      <td>NaN</td>\n",
       "      <td>GAINESVILLE</td>\n",
       "      <td>FL</td>\n",
       "      <td>32605</td>\n",
       "      <td>9</td>\n",
       "      <td>10</td>\n",
       "      <td>...</td>\n",
       "      <td>120</td>\n",
       "      <td>2278.50</td>\n",
       "      <td>25306 SW 16TH AV</td>\n",
       "      <td>09/23/2008</td>\n",
       "      <td>65000</td>\n",
       "      <td>I</td>\n",
       "      <td>U</td>\n",
       "      <td>3831</td>\n",
       "      <td>1398</td>\n",
       "      <td>WD</td>\n",
       "    </tr>\n",
       "  </tbody>\n",
       "</table>\n",
       "<p>5 rows × 38 columns</p>\n",
       "</div>"
      ],
      "text/plain": [
       "      Parcel_Num                 Owner_Mail_Name  Owner_Mail_CO  \\\n",
       "0  00450-000-000                      WARD, JODI            NaN   \n",
       "1  00528-000-000                    DIRK, LYNN M            NaN   \n",
       "2  01408-113-000     MILLER, GREGORY A & KAREN L            NaN   \n",
       "3  01981-012-004                BOGART, JOSEPH W            NaN   \n",
       "4  02534-001-011  MITCHELL, LAURIE DUKES TRUSTEE            NaN   \n",
       "\n",
       "   Owner_Mail_Addr1  Owner_Mail_Addr2 Owner_Mail_City Owner_Mail_State  \\\n",
       "0   1236 NW 39TH DR               NaN     GAINESVILLE               FL   \n",
       "1  1604 NW 21ST AVE               NaN     GAINESVILLE               FL   \n",
       "2       PO BOX 2693               NaN    HIGH SPRINGS               FL   \n",
       "3   4022 NW 36TH ST               NaN     GAINESVILLE               FL   \n",
       "4   7818 NW 22ND LN               NaN     GAINESVILLE               FL   \n",
       "\n",
       "  Owner_Mail_Zip  Section  Township       ...         School_Exempt_Amount  \\\n",
       "0     32605-4647        2         8       ...                            0   \n",
       "1     32605-4062       34         7       ...                            0   \n",
       "2     32655-2693        3         8       ...                         2610   \n",
       "3     32605-1445        4        10       ...                            0   \n",
       "4          32605        9        10       ...                          120   \n",
       "\n",
       "   Tax_Amount         Loc_Address   Sale_Date Sale_Price  Sale_VacImp  \\\n",
       "0     1728.82   18743 NW 230TH ST  05/10/2011        100            I   \n",
       "1     1286.20   23674 NW 188TH AV  02/15/2006        100            I   \n",
       "2     1621.35  17521 NW 239TH TER  05/27/1994      42500            I   \n",
       "3     1687.81     26442 SW 4TH AV  02/18/2008      81000            I   \n",
       "4     2278.50    25306 SW 16TH AV  09/23/2008      65000            I   \n",
       "\n",
       "  Sale_Qualified  Sale_Book  Sale_Page  Sale_Instrument  \n",
       "0              U       4031        449               WD  \n",
       "1              U       3317        820               OD  \n",
       "2              Q       1970        562               WD  \n",
       "3              U       3745        220               CT  \n",
       "4              U       3831       1398               WD  \n",
       "\n",
       "[5 rows x 38 columns]"
      ]
     },
     "execution_count": 8,
     "metadata": {},
     "output_type": "execute_result"
    }
   ],
   "source": [
    "appraiser_data = pd.read_csv(\"data/32605_00100_50k_100k.csv\")\n",
    "appraiser_data.head()"
   ]
  },
  {
   "cell_type": "markdown",
   "metadata": {},
   "source": [
    "### Graphing Single Family Residence Savings by Square Footage"
   ]
  },
  {
   "cell_type": "markdown",
   "metadata": {},
   "source": [
    "## Which Homes Should We Help Convert to Natural Gas?"
   ]
  },
  {
   "cell_type": "markdown",
   "metadata": {},
   "source": [
    "\n",
    "### Geocoding Residences with Google's Service With the geocoder Package "
   ]
  },
  {
   "cell_type": "code",
   "execution_count": 9,
   "metadata": {
    "collapsed": true
   },
   "outputs": [],
   "source": [
    "with open('google.key') as json_file:\n",
    "    data = json.load(json_file)\n",
    "google_api_key = data[\"api_key\"]"
   ]
  },
  {
   "cell_type": "code",
   "execution_count": 10,
   "metadata": {
    "collapsed": false,
    "scrolled": true
   },
   "outputs": [
    {
     "data": {
      "text/plain": [
       "{'accuracy': u'ROOFTOP',\n",
       " 'address': u'1604 NW 21 Ave, Gainesville, FL 32605, USA',\n",
       " 'bbox': {'northeast': [29.6736079802915, -82.3409870197085],\n",
       "  'southwest': [29.6709100197085, -82.34368498029151]},\n",
       " 'city': u'Gainesville',\n",
       " 'confidence': 9,\n",
       " 'country': u'US',\n",
       " 'county': u'Alachua County',\n",
       " 'encoding': 'utf-8',\n",
       " 'housenumber': u'1604',\n",
       " 'lat': 29.672259,\n",
       " 'lng': -82.342336,\n",
       " 'location': '1604 NW 21ST AVE GAINESVILLE FL 32605-4062',\n",
       " 'ok': True,\n",
       " 'place': u'ChIJJQ6ZKWOk6IgRTTtpZvrFbxA',\n",
       " 'postal': u'32605',\n",
       " 'provider': 'google',\n",
       " 'quality': u'street_address',\n",
       " 'state': u'FL',\n",
       " 'status': 'OK',\n",
       " 'status_code': 200,\n",
       " 'street': u'NW 21 Ave'}"
      ]
     },
     "execution_count": 10,
     "metadata": {},
     "output_type": "execute_result"
    }
   ],
   "source": [
    "import geocoder\n",
    "g = geocoder.google(\"1604 NW 21ST AVE GAINESVILLE FL 32605-4062\", \n",
    "                    key=google_api_key)\n",
    "g.json"
   ]
  },
  {
   "cell_type": "markdown",
   "metadata": {},
   "source": [
    "### Adding Residences Without Gas Service to the Map"
   ]
  }
 ],
 "metadata": {
  "kernelspec": {
   "display_name": "Python 2",
   "language": "python",
   "name": "python2"
  },
  "language_info": {
   "codemirror_mode": {
    "name": "ipython",
    "version": 2
   },
   "file_extension": ".py",
   "mimetype": "text/x-python",
   "name": "python",
   "nbconvert_exporter": "python",
   "pygments_lexer": "ipython2",
   "version": "2.7.12"
  }
 },
 "nbformat": 4,
 "nbformat_minor": 1
}
