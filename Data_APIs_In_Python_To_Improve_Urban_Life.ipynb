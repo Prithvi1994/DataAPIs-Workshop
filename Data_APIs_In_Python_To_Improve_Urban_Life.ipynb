{
 "cells": [
  {
   "cell_type": "code",
   "execution_count": 1,
   "metadata": {
    "collapsed": true
   },
   "outputs": [],
   "source": [
    "%matplotlib inline\n",
    "import json\n",
    "import pandas as pd"
   ]
  },
  {
   "cell_type": "markdown",
   "metadata": {},
   "source": [
    "# Using Data APIs in Python to Improve Urban Life\n",
    "\n"
   ]
  },
  {
   "cell_type": "markdown",
   "metadata": {},
   "source": [
    "## Visualizing Poverty in Gainesville"
   ]
  },
  {
   "cell_type": "markdown",
   "metadata": {},
   "source": [
    "### Obtaining US Census Data Through Python Packages"
   ]
  },
  {
   "cell_type": "code",
   "execution_count": 2,
   "metadata": {
    "collapsed": false
   },
   "outputs": [],
   "source": [
    "# pip install census\n",
    "# Go to http://api.census.gov/data/key_signup.html to key and API key\n",
    "with open('census.key') as json_file:\n",
    "    data = json.load(json_file)\n",
    "census_api_key = data[\"api_key\"]\n",
    "\n",
    "from census import Census"
   ]
  },
  {
   "cell_type": "code",
   "execution_count": 5,
   "metadata": {
    "collapsed": false
   },
   "outputs": [
    {
     "data": {
      "text/html": [
       "<div>\n",
       "<table border=\"1\" class=\"dataframe\">\n",
       "  <thead>\n",
       "    <tr style=\"text-align: right;\">\n",
       "      <th></th>\n",
       "      <th>B01003_001E</th>\n",
       "      <th>B14006_002E</th>\n",
       "      <th>B17009_002E</th>\n",
       "      <th>NAME</th>\n",
       "      <th>county</th>\n",
       "      <th>state</th>\n",
       "      <th>tract</th>\n",
       "    </tr>\n",
       "  </thead>\n",
       "  <tbody>\n",
       "    <tr>\n",
       "      <th>count</th>\n",
       "      <td>56</td>\n",
       "      <td>56</td>\n",
       "      <td>56</td>\n",
       "      <td>56</td>\n",
       "      <td>56</td>\n",
       "      <td>56</td>\n",
       "      <td>56</td>\n",
       "    </tr>\n",
       "    <tr>\n",
       "      <th>unique</th>\n",
       "      <td>56</td>\n",
       "      <td>55</td>\n",
       "      <td>55</td>\n",
       "      <td>56</td>\n",
       "      <td>1</td>\n",
       "      <td>1</td>\n",
       "      <td>56</td>\n",
       "    </tr>\n",
       "    <tr>\n",
       "      <th>top</th>\n",
       "      <td>822</td>\n",
       "      <td>1477</td>\n",
       "      <td>222</td>\n",
       "      <td>Census Tract 22.07, Alachua County, Florida</td>\n",
       "      <td>001</td>\n",
       "      <td>12</td>\n",
       "      <td>001907</td>\n",
       "    </tr>\n",
       "    <tr>\n",
       "      <th>freq</th>\n",
       "      <td>1</td>\n",
       "      <td>2</td>\n",
       "      <td>2</td>\n",
       "      <td>1</td>\n",
       "      <td>56</td>\n",
       "      <td>56</td>\n",
       "      <td>1</td>\n",
       "    </tr>\n",
       "  </tbody>\n",
       "</table>\n",
       "</div>"
      ],
      "text/plain": [
       "       B01003_001E B14006_002E B17009_002E  \\\n",
       "count           56          56          56   \n",
       "unique          56          55          55   \n",
       "top            822        1477         222   \n",
       "freq             1           2           2   \n",
       "\n",
       "                                               NAME county state   tract  \n",
       "count                                            56     56    56      56  \n",
       "unique                                           56      1     1      56  \n",
       "top     Census Tract 22.07, Alachua County, Florida    001    12  001907  \n",
       "freq                                              1     56    56       1  "
      ]
     },
     "execution_count": 5,
     "metadata": {},
     "output_type": "execute_result"
    }
   ],
   "source": [
    "# http://api.census.gov/data/2014/acs5/variables.html\n",
    "# http://api.census.gov/data/2014/acs5/variables/B01003_001E.json\n",
    "# http://api.census.gov/data/2014/acs5/variables/B14006_002E.json\n",
    "# http://api.census.gov/data/2014/acs5/variables/B17009_002E.json\n",
    "\n",
    "\n",
    "census_api = Census(census_api_key)\n",
    "census_data = census_api.acs5.state_county_tract(\n",
    "    ('NAME', 'B01003_001E', 'B14006_002E', 'B17009_002E'), \n",
    "    '12', '001', Census.ALL)\n",
    "poverty_by_tract = pd.DataFrame.from_dict(census_data)\n",
    "poverty_by_tract.describe()"
   ]
  },
  {
   "cell_type": "markdown",
   "metadata": {},
   "source": [
    "### Mapping Poverty by Census Tract on Top of Basemap Data Layers"
   ]
  },
  {
   "cell_type": "markdown",
   "metadata": {},
   "source": [
    "#### Downloading Census Tract Layer"
   ]
  },
  {
   "cell_type": "code",
   "execution_count": 30,
   "metadata": {
    "collapsed": false
   },
   "outputs": [
    {
     "name": "stderr",
     "output_type": "stream",
     "text": [
      "/usr/local/lib/python2.7/dist-packages/matplotlib/font_manager.py:273: UserWarning: Matplotlib is building the font cache using fc-list. This may take a moment.\n",
      "  warnings.warn('Matplotlib is building the font cache using fc-list. This may take a moment.')\n"
     ]
    }
   ],
   "source": [
    "# pip install https://github.com/matplotlib/basemap/archive/v1.0.7rel.tar.gz\n",
    "# This is 130 MB, needed geos, numpy, matplotlib, pandas first, also apt install libgeos-dev\n",
    "# or apt install python-mpltoolkits.basemap python-mpltoolkits.basemap-data\n",
    "\n",
    "from mpl_toolkits.basemap import Basemap\n",
    "import matplotlib.pyplot as plt\n",
    "import numpy as np"
   ]
  },
  {
   "cell_type": "markdown",
   "metadata": {},
   "source": [
    "#### Drawing a Map of Census Tracts"
   ]
  },
  {
   "cell_type": "code",
   "execution_count": 32,
   "metadata": {
    "collapsed": false
   },
   "outputs": [
    {
     "data": {
      "image/png": "[encoded data removed]",
      "text/plain": [
       "<matplotlib.figure.Figure at 0x7f8b5c5f4890>"
      ]
     },
     "metadata": {},
     "output_type": "display_data"
    }
   ],
   "source": [
    "my_map = Basemap(projection='ortho', lat_0=50, lon_0=-100,\n",
    "              resolution='l', area_thresh=1000.0)\n",
    " \n",
    "my_map.drawcoastlines()\n",
    " \n",
    "plt.show()"
   ]
  },
  {
   "cell_type": "markdown",
   "metadata": {},
   "source": [
    "## Does Having Natural Gas Service Save Money?"
   ]
  },
  {
   "cell_type": "markdown",
   "metadata": {},
   "source": [
    "### Obtaining Gaineville Regional Utilities (GRU) Billing Data Through Socrata's API from data.cityofgainesville.org"
   ]
  },
  {
   "cell_type": "markdown",
   "metadata": {},
   "source": [
    "### Calculating Savings"
   ]
  },
  {
   "cell_type": "markdown",
   "metadata": {},
   "source": [
    "### Obtaining Property Appraiser Data Through Manual Downloads from www.acpafl.org"
   ]
  },
  {
   "cell_type": "code",
   "execution_count": 12,
   "metadata": {
    "collapsed": false
   },
   "outputs": [
    {
     "data": {
      "text/html": [
       "<div>\n",
       "<table border=\"1\" class=\"dataframe\">\n",
       "  <thead>\n",
       "    <tr style=\"text-align: right;\">\n",
       "      <th></th>\n",
       "      <th>Parcel_Num</th>\n",
       "      <th>Owner_Mail_Name</th>\n",
       "      <th>Owner_Mail_CO</th>\n",
       "      <th>Owner_Mail_Addr1</th>\n",
       "      <th>Owner_Mail_Addr2</th>\n",
       "      <th>Owner_Mail_City</th>\n",
       "      <th>Owner_Mail_State</th>\n",
       "      <th>Owner_Mail_Zip</th>\n",
       "      <th>Section</th>\n",
       "      <th>Township</th>\n",
       "      <th>...</th>\n",
       "      <th>School_Exempt_Amount</th>\n",
       "      <th>Tax_Amount</th>\n",
       "      <th>Loc_Address</th>\n",
       "      <th>Sale_Date</th>\n",
       "      <th>Sale_Price</th>\n",
       "      <th>Sale_VacImp</th>\n",
       "      <th>Sale_Qualified</th>\n",
       "      <th>Sale_Book</th>\n",
       "      <th>Sale_Page</th>\n",
       "      <th>Sale_Instrument</th>\n",
       "    </tr>\n",
       "  </thead>\n",
       "  <tbody>\n",
       "    <tr>\n",
       "      <th>0</th>\n",
       "      <td>00450-000-000</td>\n",
       "      <td>WARD, JODI</td>\n",
       "      <td>NaN</td>\n",
       "      <td>1236 NW 39TH DR</td>\n",
       "      <td>NaN</td>\n",
       "      <td>GAINESVILLE</td>\n",
       "      <td>FL</td>\n",
       "      <td>32605-4647</td>\n",
       "      <td>2</td>\n",
       "      <td>8</td>\n",
       "      <td>...</td>\n",
       "      <td>0.0</td>\n",
       "      <td>1728.82</td>\n",
       "      <td>18743 NW 230TH ST</td>\n",
       "      <td>05/10/2011</td>\n",
       "      <td>100.0</td>\n",
       "      <td>I</td>\n",
       "      <td>U</td>\n",
       "      <td>4031.0</td>\n",
       "      <td>449.0</td>\n",
       "      <td>WD</td>\n",
       "    </tr>\n",
       "    <tr>\n",
       "      <th>1</th>\n",
       "      <td>00528-000-000</td>\n",
       "      <td>DIRK, LYNN M</td>\n",
       "      <td>NaN</td>\n",
       "      <td>1604 NW 21ST AVE</td>\n",
       "      <td>NaN</td>\n",
       "      <td>GAINESVILLE</td>\n",
       "      <td>FL</td>\n",
       "      <td>32605-4062</td>\n",
       "      <td>34</td>\n",
       "      <td>7</td>\n",
       "      <td>...</td>\n",
       "      <td>0.0</td>\n",
       "      <td>1286.20</td>\n",
       "      <td>23674 NW 188TH AV</td>\n",
       "      <td>02/15/2006</td>\n",
       "      <td>100.0</td>\n",
       "      <td>I</td>\n",
       "      <td>U</td>\n",
       "      <td>3317.0</td>\n",
       "      <td>820.0</td>\n",
       "      <td>OD</td>\n",
       "    </tr>\n",
       "    <tr>\n",
       "      <th>2</th>\n",
       "      <td>01408-113-000</td>\n",
       "      <td>MILLER, GREGORY A &amp; KAREN L</td>\n",
       "      <td>NaN</td>\n",
       "      <td>PO BOX 2693</td>\n",
       "      <td>NaN</td>\n",
       "      <td>HIGH SPRINGS</td>\n",
       "      <td>FL</td>\n",
       "      <td>32655-2693</td>\n",
       "      <td>3</td>\n",
       "      <td>8</td>\n",
       "      <td>...</td>\n",
       "      <td>2610.0</td>\n",
       "      <td>1621.35</td>\n",
       "      <td>17521 NW 239TH TER</td>\n",
       "      <td>05/27/1994</td>\n",
       "      <td>42500.0</td>\n",
       "      <td>I</td>\n",
       "      <td>Q</td>\n",
       "      <td>1970.0</td>\n",
       "      <td>562.0</td>\n",
       "      <td>WD</td>\n",
       "    </tr>\n",
       "    <tr>\n",
       "      <th>3</th>\n",
       "      <td>01981-012-004</td>\n",
       "      <td>BOGART, JOSEPH W</td>\n",
       "      <td>NaN</td>\n",
       "      <td>4022 NW 36TH ST</td>\n",
       "      <td>NaN</td>\n",
       "      <td>GAINESVILLE</td>\n",
       "      <td>FL</td>\n",
       "      <td>32605-1445</td>\n",
       "      <td>4</td>\n",
       "      <td>10</td>\n",
       "      <td>...</td>\n",
       "      <td>0.0</td>\n",
       "      <td>1687.81</td>\n",
       "      <td>26442 SW 4TH AV</td>\n",
       "      <td>02/18/2008</td>\n",
       "      <td>81000.0</td>\n",
       "      <td>I</td>\n",
       "      <td>U</td>\n",
       "      <td>3745.0</td>\n",
       "      <td>220.0</td>\n",
       "      <td>CT</td>\n",
       "    </tr>\n",
       "    <tr>\n",
       "      <th>4</th>\n",
       "      <td>02534-001-011</td>\n",
       "      <td>MITCHELL, LAURIE DUKES TRUSTEE</td>\n",
       "      <td>NaN</td>\n",
       "      <td>7818 NW 22ND LN</td>\n",
       "      <td>NaN</td>\n",
       "      <td>GAINESVILLE</td>\n",
       "      <td>FL</td>\n",
       "      <td>32605</td>\n",
       "      <td>9</td>\n",
       "      <td>10</td>\n",
       "      <td>...</td>\n",
       "      <td>120.0</td>\n",
       "      <td>2278.50</td>\n",
       "      <td>25306 SW 16TH AV</td>\n",
       "      <td>09/23/2008</td>\n",
       "      <td>65000.0</td>\n",
       "      <td>I</td>\n",
       "      <td>U</td>\n",
       "      <td>3831.0</td>\n",
       "      <td>1398.0</td>\n",
       "      <td>WD</td>\n",
       "    </tr>\n",
       "  </tbody>\n",
       "</table>\n",
       "<p>5 rows × 38 columns</p>\n",
       "</div>"
      ],
      "text/plain": [
       "      Parcel_Num                 Owner_Mail_Name  Owner_Mail_CO  \\\n",
       "0  00450-000-000                      WARD, JODI            NaN   \n",
       "1  00528-000-000                    DIRK, LYNN M            NaN   \n",
       "2  01408-113-000     MILLER, GREGORY A & KAREN L            NaN   \n",
       "3  01981-012-004                BOGART, JOSEPH W            NaN   \n",
       "4  02534-001-011  MITCHELL, LAURIE DUKES TRUSTEE            NaN   \n",
       "\n",
       "   Owner_Mail_Addr1 Owner_Mail_Addr2 Owner_Mail_City Owner_Mail_State  \\\n",
       "0   1236 NW 39TH DR              NaN     GAINESVILLE               FL   \n",
       "1  1604 NW 21ST AVE              NaN     GAINESVILLE               FL   \n",
       "2       PO BOX 2693              NaN    HIGH SPRINGS               FL   \n",
       "3   4022 NW 36TH ST              NaN     GAINESVILLE               FL   \n",
       "4   7818 NW 22ND LN              NaN     GAINESVILLE               FL   \n",
       "\n",
       "  Owner_Mail_Zip  Section  Township       ...         School_Exempt_Amount  \\\n",
       "0     32605-4647        2         8       ...                          0.0   \n",
       "1     32605-4062       34         7       ...                          0.0   \n",
       "2     32655-2693        3         8       ...                       2610.0   \n",
       "3     32605-1445        4        10       ...                          0.0   \n",
       "4          32605        9        10       ...                        120.0   \n",
       "\n",
       "   Tax_Amount         Loc_Address   Sale_Date Sale_Price  Sale_VacImp  \\\n",
       "0     1728.82   18743 NW 230TH ST  05/10/2011      100.0            I   \n",
       "1     1286.20   23674 NW 188TH AV  02/15/2006      100.0            I   \n",
       "2     1621.35  17521 NW 239TH TER  05/27/1994    42500.0            I   \n",
       "3     1687.81     26442 SW 4TH AV  02/18/2008    81000.0            I   \n",
       "4     2278.50    25306 SW 16TH AV  09/23/2008    65000.0            I   \n",
       "\n",
       "  Sale_Qualified  Sale_Book  Sale_Page  Sale_Instrument  \n",
       "0              U     4031.0      449.0               WD  \n",
       "1              U     3317.0      820.0               OD  \n",
       "2              Q     1970.0      562.0               WD  \n",
       "3              U     3745.0      220.0               CT  \n",
       "4              U     3831.0     1398.0               WD  \n",
       "\n",
       "[5 rows x 38 columns]"
      ]
     },
     "execution_count": 12,
     "metadata": {},
     "output_type": "execute_result"
    }
   ],
   "source": [
    "appraiser_data = pd.read_csv(\"data/32605_00100_50k_100k.csv\")\n",
    "appraiser_data.head()"
   ]
  },
  {
   "cell_type": "markdown",
   "metadata": {},
   "source": [
    "### Graphing Single Family Residence Savings by Square Footage"
   ]
  },
  {
   "cell_type": "markdown",
   "metadata": {},
   "source": [
    "## Which Homes Should We Help Convert to Natural Gas?"
   ]
  },
  {
   "cell_type": "markdown",
   "metadata": {},
   "source": [
    "\n",
    "### Geocoding Residences with Google's Service With the geocoder Package "
   ]
  },
  {
   "cell_type": "code",
   "execution_count": null,
   "metadata": {
    "collapsed": true
   },
   "outputs": [],
   "source": [
    "with open('google.key') as json_file:\n",
    "    data = json.load(json_file)\n",
    "google_api_key = data[\"api_key\"]"
   ]
  },
  {
   "cell_type": "code",
   "execution_count": 21,
   "metadata": {
    "collapsed": false,
    "scrolled": true
   },
   "outputs": [
    {
     "data": {
      "text/plain": [
       "{'accuracy': u'ROOFTOP',\n",
       " 'address': u'1604 NW 21 Ave, Gainesville, FL 32605, USA',\n",
       " 'bbox': {'northeast': [29.6736079802915, -82.3409870197085],\n",
       "  'southwest': [29.6709100197085, -82.34368498029151]},\n",
       " 'city': u'Gainesville',\n",
       " 'confidence': 9,\n",
       " 'country': u'US',\n",
       " 'county': u'Alachua County',\n",
       " 'encoding': 'utf-8',\n",
       " 'housenumber': u'1604',\n",
       " 'lat': 29.672259,\n",
       " 'lng': -82.342336,\n",
       " 'location': '1604 NW 21ST AVE GAINESVILLE FL 32605-4062',\n",
       " 'ok': True,\n",
       " 'place': u'ChIJJQ6ZKWOk6IgRTTtpZvrFbxA',\n",
       " 'postal': u'32605',\n",
       " 'provider': 'google',\n",
       " 'quality': u'street_address',\n",
       " 'state': u'FL',\n",
       " 'status': 'OK',\n",
       " 'status_code': 200,\n",
       " 'street': u'NW 21 Ave'}"
      ]
     },
     "execution_count": 21,
     "metadata": {},
     "output_type": "execute_result"
    }
   ],
   "source": [
    "import geocoder\n",
    "g = geocoder.google(\"1604 NW 21ST AVE GAINESVILLE FL 32605-4062\", \n",
    "                    key=google_api_key)\n",
    "g.json"
   ]
  },
  {
   "cell_type": "markdown",
   "metadata": {},
   "source": [
    "### Adding Residences Without Gas Service to the Map"
   ]
  }
 ],
 "metadata": {
  "kernelspec": {
   "display_name": "Python 2",
   "language": "python",
   "name": "python2"
  },
  "language_info": {
   "codemirror_mode": {
    "name": "ipython",
    "version": 2
   },
   "file_extension": ".py",
   "mimetype": "text/x-python",
   "name": "python",
   "nbconvert_exporter": "python",
   "pygments_lexer": "ipython2",
   "version": "2.7.12"
  }
 },
 "nbformat": 4,
 "nbformat_minor": 1
}
